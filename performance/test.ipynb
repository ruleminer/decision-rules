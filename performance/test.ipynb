{
 "cells": [
  {
   "cell_type": "markdown",
   "metadata": {},
   "source": [
    "# Logrank optimization\n",
    "\n",
    "This notebook presents a proposal for optimizing logrank computation time."
   ]
  },
  {
   "cell_type": "code",
   "execution_count": 82,
   "metadata": {},
   "outputs": [
    {
     "data": {
      "application/vnd.microsoft.datawrangler.viewer.v0+json": {
       "columns": [
        {
         "name": "index",
         "rawType": "object",
         "type": "string"
        },
        {
         "name": "ici",
         "rawType": "float64",
         "type": "float"
        },
        {
         "name": "thick",
         "rawType": "float64",
         "type": "float"
        },
        {
         "name": "age",
         "rawType": "float64",
         "type": "float"
        },
        {
         "name": "survival_time",
         "rawType": "float64",
         "type": "float"
        }
       ],
       "conversionMethod": "pd.DataFrame",
       "ref": "f50d09b6-7439-4aa2-87e6-5537f8473329",
       "rows": [
        [
         "count",
         "143.0",
         "143.0",
         "143.0",
         "143.0"
        ],
        [
         "mean",
         "1.6643356643356644",
         "2.5652447552447546",
         "52.22377622377623",
         "2167.3636363636365"
        ],
        [
         "std",
         "0.7777183669986104",
         "2.2699859874754673",
         "16.81272974309527",
         "1040.1411912924625"
        ],
        [
         "min",
         "0.0",
         "0.16",
         "4.0",
         "30.0"
        ],
        [
         "25%",
         "1.0",
         "0.97",
         "41.5",
         "1613.0"
        ],
        [
         "50%",
         "2.0",
         "1.78",
         "54.0",
         "2028.0"
        ],
        [
         "75%",
         "2.0",
         "3.54",
         "64.0",
         "3054.5"
        ],
        [
         "max",
         "3.0",
         "12.88",
         "95.0",
         "4479.0"
        ]
       ],
       "shape": {
        "columns": 4,
        "rows": 8
       }
      },
      "text/html": [
       "<div>\n",
       "<style scoped>\n",
       "    .dataframe tbody tr th:only-of-type {\n",
       "        vertical-align: middle;\n",
       "    }\n",
       "\n",
       "    .dataframe tbody tr th {\n",
       "        vertical-align: top;\n",
       "    }\n",
       "\n",
       "    .dataframe thead th {\n",
       "        text-align: right;\n",
       "    }\n",
       "</style>\n",
       "<table border=\"1\" class=\"dataframe\">\n",
       "  <thead>\n",
       "    <tr style=\"text-align: right;\">\n",
       "      <th></th>\n",
       "      <th>ici</th>\n",
       "      <th>thick</th>\n",
       "      <th>age</th>\n",
       "      <th>survival_time</th>\n",
       "    </tr>\n",
       "  </thead>\n",
       "  <tbody>\n",
       "    <tr>\n",
       "      <th>count</th>\n",
       "      <td>143.000000</td>\n",
       "      <td>143.000000</td>\n",
       "      <td>143.000000</td>\n",
       "      <td>143.000000</td>\n",
       "    </tr>\n",
       "    <tr>\n",
       "      <th>mean</th>\n",
       "      <td>1.664336</td>\n",
       "      <td>2.565245</td>\n",
       "      <td>52.223776</td>\n",
       "      <td>2167.363636</td>\n",
       "    </tr>\n",
       "    <tr>\n",
       "      <th>std</th>\n",
       "      <td>0.777718</td>\n",
       "      <td>2.269986</td>\n",
       "      <td>16.812730</td>\n",
       "      <td>1040.141191</td>\n",
       "    </tr>\n",
       "    <tr>\n",
       "      <th>min</th>\n",
       "      <td>0.000000</td>\n",
       "      <td>0.160000</td>\n",
       "      <td>4.000000</td>\n",
       "      <td>30.000000</td>\n",
       "    </tr>\n",
       "    <tr>\n",
       "      <th>25%</th>\n",
       "      <td>1.000000</td>\n",
       "      <td>0.970000</td>\n",
       "      <td>41.500000</td>\n",
       "      <td>1613.000000</td>\n",
       "    </tr>\n",
       "    <tr>\n",
       "      <th>50%</th>\n",
       "      <td>2.000000</td>\n",
       "      <td>1.780000</td>\n",
       "      <td>54.000000</td>\n",
       "      <td>2028.000000</td>\n",
       "    </tr>\n",
       "    <tr>\n",
       "      <th>75%</th>\n",
       "      <td>2.000000</td>\n",
       "      <td>3.540000</td>\n",
       "      <td>64.000000</td>\n",
       "      <td>3054.500000</td>\n",
       "    </tr>\n",
       "    <tr>\n",
       "      <th>max</th>\n",
       "      <td>3.000000</td>\n",
       "      <td>12.880000</td>\n",
       "      <td>95.000000</td>\n",
       "      <td>4479.000000</td>\n",
       "    </tr>\n",
       "  </tbody>\n",
       "</table>\n",
       "</div>"
      ],
      "text/plain": [
       "              ici       thick         age  survival_time\n",
       "count  143.000000  143.000000  143.000000     143.000000\n",
       "mean     1.664336    2.565245   52.223776    2167.363636\n",
       "std      0.777718    2.269986   16.812730    1040.141191\n",
       "min      0.000000    0.160000    4.000000      30.000000\n",
       "25%      1.000000    0.970000   41.500000    1613.000000\n",
       "50%      2.000000    1.780000   54.000000    2028.000000\n",
       "75%      2.000000    3.540000   64.000000    3054.500000\n",
       "max      3.000000   12.880000   95.000000    4479.000000"
      ]
     },
     "execution_count": 82,
     "metadata": {},
     "output_type": "execute_result"
    }
   ],
   "source": [
    "from time import perf_counter\n",
    "import pandas as pd\n",
    "import numpy as np\n",
    "\n",
    "import old_kaplan_meier\n",
    "import new_kaplan_meier\n",
    "import rulekit_kaplan_meier\n",
    "\n",
    "\n",
    "old_impl = old_kaplan_meier.KaplanMeierEstimator\n",
    "rulekit_impl = rulekit_kaplan_meier.KaplanMeierEstimator\n",
    "new_impl = new_kaplan_meier.PrecalculatedKaplanMeierEstimator\n",
    "\n",
    "\n",
    "df_train: pd.DataFrame = pd.read_parquet(\"./train.parquet\")\n",
    "X_train, y_train = df_train.drop(\"survival_status\", axis=1), df_train[\"survival_status\"]\n",
    "\n",
    "X_train.describe()"
   ]
  },
  {
   "cell_type": "code",
   "execution_count": 83,
   "metadata": {},
   "outputs": [
    {
     "name": "stdout",
     "output_type": "stream",
     "text": [
      "Condition: age < 54.00\n",
      "Covered count: 66  Uncovered count: 77\n"
     ]
    }
   ],
   "source": [
    "from decision_rules.conditions import ElementaryCondition\n",
    "\n",
    "X_np = X_train.sort_values(by='survival_time', ascending=True).to_numpy()\n",
    "y_np = y_train.to_numpy().astype(int).astype(str)\n",
    "survival_time_idx = X_train.columns.get_loc(\"survival_time\")\n",
    "\n",
    "c = ElementaryCondition(column_index=X_train.columns.get_loc(\"age\"), right=54)\n",
    "print(\"Condition:\", c.to_string(X_train.columns))\n",
    "cov_mask = c.covered_mask(X_np)\n",
    "uncov_mask = c.uncovered_mask(X_np)\n",
    "print(\n",
    "    f\"Covered count: {np.where(cov_mask == 1)[0].shape[0]}  \"\n",
    "    f\"Uncovered count: {len(X_np) - np.where(cov_mask == 1)[0].shape[0]}\"\n",
    ")"
   ]
  },
  {
   "cell_type": "markdown",
   "metadata": {},
   "source": [
    "## Compare results"
   ]
  },
  {
   "cell_type": "markdown",
   "metadata": {},
   "source": [
    "### Current implementation \n",
    "\n",
    "Slow 🐌"
   ]
  },
  {
   "cell_type": "code",
   "execution_count": 84,
   "metadata": {},
   "outputs": [
    {
     "data": {
      "text/plain": [
       "0.9581253739626425"
      ]
     },
     "execution_count": 84,
     "metadata": {},
     "output_type": "execute_result"
    }
   ],
   "source": [
    "old_impl.log_rank(\n",
    "    X_np[:, survival_time_idx], y_np, cov_mask, uncov_mask\n",
    ")"
   ]
  },
  {
   "cell_type": "markdown",
   "metadata": {},
   "source": [
    "### Implementation based on [current RuleKit code](https://github.com/adaa-polsl/RuleKit/blob/master/adaa.analytics.rules/src/main/java/adaa/analytics/rules/logic/quality/LogRank.java) after latest optimization \n",
    "\n",
    "Still quite\n",
    "slow though and result somehow changed (might be me rewriting it from Java to Python)"
   ]
  },
  {
   "cell_type": "code",
   "execution_count": 85,
   "metadata": {},
   "outputs": [
    {
     "data": {
      "text/plain": [
       "0.9888123174388482"
      ]
     },
     "execution_count": 85,
     "metadata": {},
     "output_type": "execute_result"
    }
   ],
   "source": [
    "rulekit_impl.log_rank(\n",
    "    X_np[:, survival_time_idx], y_np, cov_mask, uncov_mask\n",
    ")"
   ]
  },
  {
   "cell_type": "markdown",
   "metadata": {},
   "source": [
    "### New implementation \n",
    "\n",
    "Is fast and gives the same results as current one. 🏎️💨"
   ]
  },
  {
   "cell_type": "code",
   "execution_count": 86,
   "metadata": {},
   "outputs": [
    {
     "data": {
      "text/plain": [
       "0.9581253739626425"
      ]
     },
     "execution_count": 86,
     "metadata": {},
     "output_type": "execute_result"
    }
   ],
   "source": [
    "new_impl.log_rank(\n",
    "    X_np[:, survival_time_idx], y_np, cov_mask, uncov_mask, skip_sorting=True\n",
    ")"
   ]
  },
  {
   "cell_type": "markdown",
   "metadata": {},
   "source": [
    "## Compare performance\n"
   ]
  },
  {
   "cell_type": "code",
   "execution_count": 87,
   "metadata": {},
   "outputs": [],
   "source": [
    "N = 1000"
   ]
  },
  {
   "cell_type": "markdown",
   "metadata": {},
   "source": [
    "\n",
    "### Current implementation"
   ]
  },
  {
   "cell_type": "code",
   "execution_count": 88,
   "metadata": {},
   "outputs": [
    {
     "name": "stdout",
     "output_type": "stream",
     "text": [
      "3.8970611999975517 seconds\n"
     ]
    }
   ],
   "source": [
    "start = perf_counter()\n",
    "for _ in range(N):\n",
    "    old_impl.log_rank(\n",
    "        X_np[:, survival_time_idx],\n",
    "        y_np,\n",
    "        cov_mask,\n",
    "        uncov_mask,\n",
    "    )\n",
    "old_impl_time = perf_counter() - start\n",
    "print(old_impl_time, 'seconds')"
   ]
  },
  {
   "cell_type": "markdown",
   "metadata": {},
   "source": [
    "\n",
    "### Rulekit based implementation \n",
    "\n",
    "Faster but not significantly "
   ]
  },
  {
   "cell_type": "code",
   "execution_count": 89,
   "metadata": {},
   "outputs": [
    {
     "name": "stdout",
     "output_type": "stream",
     "text": [
      "3.5177531000226736 seconds\n"
     ]
    }
   ],
   "source": [
    "start = perf_counter()\n",
    "for _ in range(N):\n",
    "    rulekit_impl.log_rank(\n",
    "        X_np[:, survival_time_idx],\n",
    "        y_np,\n",
    "        cov_mask,\n",
    "        uncov_mask,\n",
    "    )\n",
    "rulekit_impl_time = perf_counter() - start\n",
    "print(rulekit_impl_time, \"seconds\")"
   ]
  },
  {
   "cell_type": "markdown",
   "metadata": {},
   "source": [
    "### Proposed implementation"
   ]
  },
  {
   "cell_type": "code",
   "execution_count": 90,
   "metadata": {},
   "outputs": [
    {
     "name": "stdout",
     "output_type": "stream",
     "text": [
      "0.5014416000049096 seconds\n"
     ]
    }
   ],
   "source": [
    "start = perf_counter()\n",
    "for _ in range(N):\n",
    "    new_impl.log_rank(\n",
    "        X_np[:, survival_time_idx],\n",
    "        y_np,\n",
    "        cov_mask,\n",
    "        uncov_mask,\n",
    "        skip_sorting=True\n",
    "    )\n",
    "new_impl_time = perf_counter() - start\n",
    "print(new_impl_time, \"seconds\")"
   ]
  },
  {
   "cell_type": "code",
   "execution_count": 91,
   "metadata": {},
   "outputs": [
    {
     "name": "stdout",
     "output_type": "stream",
     "text": [
      "Proposed implemetation is: 7.77 times faster than the current one \n",
      "and 7.02 times faster than the one based on RuleKit code\n"
     ]
    }
   ],
   "source": [
    "print(\n",
    "    \"Proposed implemetation is: \"\n",
    "    f\"{round(old_impl_time / new_impl_time, 2)}\"\n",
    "    \" times faster than the current one \\nand \"\n",
    "    f\"{round(rulekit_impl_time / new_impl_time, 2)}\"\n",
    "    \" times faster than the one based on RuleKit code\"\n",
    ")"
   ]
  },
  {
   "cell_type": "markdown",
   "metadata": {},
   "source": [
    "### Execution times comparison on different dataset sizes"
   ]
  },
  {
   "cell_type": "code",
   "execution_count": 118,
   "metadata": {},
   "outputs": [
    {
     "data": {
      "application/vnd.microsoft.datawrangler.viewer.v0+json": {
       "columns": [
        {
         "name": "index",
         "rawType": "int64",
         "type": "integer"
        },
        {
         "name": "n",
         "rawType": "int64",
         "type": "integer"
        },
        {
         "name": "after",
         "rawType": "float64",
         "type": "float"
        },
        {
         "name": "before",
         "rawType": "float64",
         "type": "float"
        }
       ],
       "conversionMethod": "pd.DataFrame",
       "ref": "bf9c233e-1a84-41ed-a6c6-5354303ced96",
       "rows": [
        [
         "0",
         "143",
         "0.05515699999523349",
         "0.4040427999862004"
        ],
        [
         "1",
         "286",
         "0.08837489999132231",
         "0.4754299999913201"
        ],
        [
         "2",
         "429",
         "0.1315179000084754",
         "0.5100392999884207"
        ],
        [
         "3",
         "572",
         "0.17796000000089407",
         "0.5794164000253659"
        ],
        [
         "4",
         "715",
         "0.31966670000110753",
         "0.6378831000183709"
        ],
        [
         "5",
         "858",
         "0.25471619999734685",
         "0.6961192000017036"
        ],
        [
         "6",
         "1001",
         "0.2940398000064306",
         "0.737754000001587"
        ],
        [
         "7",
         "1144",
         "0.39858740000636317",
         "0.8002434000081848"
        ],
        [
         "8",
         "1287",
         "0.3767640999867581",
         "0.8475682999996934"
        ]
       ],
       "shape": {
        "columns": 3,
        "rows": 9
       }
      },
      "text/html": [
       "<div>\n",
       "<style scoped>\n",
       "    .dataframe tbody tr th:only-of-type {\n",
       "        vertical-align: middle;\n",
       "    }\n",
       "\n",
       "    .dataframe tbody tr th {\n",
       "        vertical-align: top;\n",
       "    }\n",
       "\n",
       "    .dataframe thead th {\n",
       "        text-align: right;\n",
       "    }\n",
       "</style>\n",
       "<table border=\"1\" class=\"dataframe\">\n",
       "  <thead>\n",
       "    <tr style=\"text-align: right;\">\n",
       "      <th></th>\n",
       "      <th>n</th>\n",
       "      <th>after</th>\n",
       "      <th>before</th>\n",
       "    </tr>\n",
       "  </thead>\n",
       "  <tbody>\n",
       "    <tr>\n",
       "      <th>0</th>\n",
       "      <td>143</td>\n",
       "      <td>0.055157</td>\n",
       "      <td>0.404043</td>\n",
       "    </tr>\n",
       "    <tr>\n",
       "      <th>1</th>\n",
       "      <td>286</td>\n",
       "      <td>0.088375</td>\n",
       "      <td>0.475430</td>\n",
       "    </tr>\n",
       "    <tr>\n",
       "      <th>2</th>\n",
       "      <td>429</td>\n",
       "      <td>0.131518</td>\n",
       "      <td>0.510039</td>\n",
       "    </tr>\n",
       "    <tr>\n",
       "      <th>3</th>\n",
       "      <td>572</td>\n",
       "      <td>0.177960</td>\n",
       "      <td>0.579416</td>\n",
       "    </tr>\n",
       "    <tr>\n",
       "      <th>4</th>\n",
       "      <td>715</td>\n",
       "      <td>0.319667</td>\n",
       "      <td>0.637883</td>\n",
       "    </tr>\n",
       "    <tr>\n",
       "      <th>5</th>\n",
       "      <td>858</td>\n",
       "      <td>0.254716</td>\n",
       "      <td>0.696119</td>\n",
       "    </tr>\n",
       "    <tr>\n",
       "      <th>6</th>\n",
       "      <td>1001</td>\n",
       "      <td>0.294040</td>\n",
       "      <td>0.737754</td>\n",
       "    </tr>\n",
       "    <tr>\n",
       "      <th>7</th>\n",
       "      <td>1144</td>\n",
       "      <td>0.398587</td>\n",
       "      <td>0.800243</td>\n",
       "    </tr>\n",
       "    <tr>\n",
       "      <th>8</th>\n",
       "      <td>1287</td>\n",
       "      <td>0.376764</td>\n",
       "      <td>0.847568</td>\n",
       "    </tr>\n",
       "  </tbody>\n",
       "</table>\n",
       "</div>"
      ],
      "text/plain": [
       "      n     after    before\n",
       "0   143  0.055157  0.404043\n",
       "1   286  0.088375  0.475430\n",
       "2   429  0.131518  0.510039\n",
       "3   572  0.177960  0.579416\n",
       "4   715  0.319667  0.637883\n",
       "5   858  0.254716  0.696119\n",
       "6  1001  0.294040  0.737754\n",
       "7  1144  0.398587  0.800243\n",
       "8  1287  0.376764  0.847568"
      ]
     },
     "execution_count": 118,
     "metadata": {},
     "output_type": "execute_result"
    }
   ],
   "source": [
    "times = []\n",
    "\n",
    "np.errstate(all='ignore')\n",
    "\n",
    "for i in range(1, 10):\n",
    "    df: pd.DataFrame = pd.read_parquet(\"./train.parquet\").sort_values(\n",
    "        by=\"survival_time\", ascending=True\n",
    "    )\n",
    "    df = pd.concat([df_train] * i)\n",
    "    X, y = df.drop(\"survival_status\", axis=1), df[\"survival_status\"]\n",
    "    survival_time_idx = X.columns.get_loc(\"survival_time\")\n",
    "    surv_times = np.arange(X.shape[0])\n",
    "\n",
    "    X = X.to_numpy()\n",
    "    y = y.to_numpy().astype(int).astype(str)\n",
    "    c = ElementaryCondition(column_index=X_train.columns.get_loc(\"age\"), right=54)\n",
    "    cov_mask = c.covered_mask(X)\n",
    "    uncov_mask = c.uncovered_mask(X)\n",
    "\n",
    "    start = perf_counter()\n",
    "    for _ in range(100):\n",
    "        new_impl.log_rank(\n",
    "            surv_times, y, cov_mask, uncov_mask, skip_sorting=True\n",
    "        )\n",
    "    new_impl_time = perf_counter() - start\n",
    "\n",
    "    start = perf_counter()\n",
    "    for _ in range(100):\n",
    "        old_impl.log_rank(\n",
    "            surv_times,\n",
    "            y,\n",
    "            cov_mask,\n",
    "            uncov_mask,\n",
    "        )\n",
    "    old_impl_time = perf_counter() - start\n",
    "\n",
    "    times.append({\"n\": X.shape[0], \"after\": new_impl_time, \"before\": old_impl_time})\n",
    "\n",
    "times = pd.DataFrame(times)\n",
    "times"
   ]
  },
  {
   "cell_type": "code",
   "execution_count": 120,
   "metadata": {},
   "outputs": [
    {
     "data": {
      "application/vnd.plotly.v1+json": {
       "config": {
        "plotlyServerURL": "https://plot.ly"
       },
       "data": [
        {
         "hovertemplate": "variable=before<br>n=%{x}<br>value=%{y}<extra></extra>",
         "legendgroup": "before",
         "line": {
          "color": "#636efa",
          "dash": "solid"
         },
         "marker": {
          "symbol": "circle"
         },
         "mode": "lines",
         "name": "before",
         "orientation": "v",
         "showlegend": true,
         "type": "scatter",
         "x": [
          143,
          286,
          429,
          572,
          715,
          858,
          1001,
          1144,
          1287
         ],
         "xaxis": "x",
         "y": [
          0.4040427999862004,
          0.4754299999913201,
          0.5100392999884207,
          0.5794164000253659,
          0.6378831000183709,
          0.6961192000017036,
          0.737754000001587,
          0.8002434000081848,
          0.8475682999996934
         ],
         "yaxis": "y"
        },
        {
         "hovertemplate": "variable=after<br>n=%{x}<br>value=%{y}<extra></extra>",
         "legendgroup": "after",
         "line": {
          "color": "#EF553B",
          "dash": "solid"
         },
         "marker": {
          "symbol": "circle"
         },
         "mode": "lines",
         "name": "after",
         "orientation": "v",
         "showlegend": true,
         "type": "scatter",
         "x": [
          143,
          286,
          429,
          572,
          715,
          858,
          1001,
          1144,
          1287
         ],
         "xaxis": "x",
         "y": [
          0.05515699999523349,
          0.08837489999132231,
          0.1315179000084754,
          0.17796000000089407,
          0.31966670000110753,
          0.25471619999734685,
          0.2940398000064306,
          0.39858740000636317,
          0.3767640999867581
         ],
         "yaxis": "y"
        }
       ],
       "layout": {
        "legend": {
         "title": {
          "text": "variable"
         },
         "tracegroupgap": 0
        },
        "template": {
         "data": {
          "bar": [
           {
            "error_x": {
             "color": "#2a3f5f"
            },
            "error_y": {
             "color": "#2a3f5f"
            },
            "marker": {
             "line": {
              "color": "#E5ECF6",
              "width": 0.5
             },
             "pattern": {
              "fillmode": "overlay",
              "size": 10,
              "solidity": 0.2
             }
            },
            "type": "bar"
           }
          ],
          "barpolar": [
           {
            "marker": {
             "line": {
              "color": "#E5ECF6",
              "width": 0.5
             },
             "pattern": {
              "fillmode": "overlay",
              "size": 10,
              "solidity": 0.2
             }
            },
            "type": "barpolar"
           }
          ],
          "carpet": [
           {
            "aaxis": {
             "endlinecolor": "#2a3f5f",
             "gridcolor": "white",
             "linecolor": "white",
             "minorgridcolor": "white",
             "startlinecolor": "#2a3f5f"
            },
            "baxis": {
             "endlinecolor": "#2a3f5f",
             "gridcolor": "white",
             "linecolor": "white",
             "minorgridcolor": "white",
             "startlinecolor": "#2a3f5f"
            },
            "type": "carpet"
           }
          ],
          "choropleth": [
           {
            "colorbar": {
             "outlinewidth": 0,
             "ticks": ""
            },
            "type": "choropleth"
           }
          ],
          "contour": [
           {
            "colorbar": {
             "outlinewidth": 0,
             "ticks": ""
            },
            "colorscale": [
             [
              0,
              "#0d0887"
             ],
             [
              0.1111111111111111,
              "#46039f"
             ],
             [
              0.2222222222222222,
              "#7201a8"
             ],
             [
              0.3333333333333333,
              "#9c179e"
             ],
             [
              0.4444444444444444,
              "#bd3786"
             ],
             [
              0.5555555555555556,
              "#d8576b"
             ],
             [
              0.6666666666666666,
              "#ed7953"
             ],
             [
              0.7777777777777778,
              "#fb9f3a"
             ],
             [
              0.8888888888888888,
              "#fdca26"
             ],
             [
              1,
              "#f0f921"
             ]
            ],
            "type": "contour"
           }
          ],
          "contourcarpet": [
           {
            "colorbar": {
             "outlinewidth": 0,
             "ticks": ""
            },
            "type": "contourcarpet"
           }
          ],
          "heatmap": [
           {
            "colorbar": {
             "outlinewidth": 0,
             "ticks": ""
            },
            "colorscale": [
             [
              0,
              "#0d0887"
             ],
             [
              0.1111111111111111,
              "#46039f"
             ],
             [
              0.2222222222222222,
              "#7201a8"
             ],
             [
              0.3333333333333333,
              "#9c179e"
             ],
             [
              0.4444444444444444,
              "#bd3786"
             ],
             [
              0.5555555555555556,
              "#d8576b"
             ],
             [
              0.6666666666666666,
              "#ed7953"
             ],
             [
              0.7777777777777778,
              "#fb9f3a"
             ],
             [
              0.8888888888888888,
              "#fdca26"
             ],
             [
              1,
              "#f0f921"
             ]
            ],
            "type": "heatmap"
           }
          ],
          "heatmapgl": [
           {
            "colorbar": {
             "outlinewidth": 0,
             "ticks": ""
            },
            "colorscale": [
             [
              0,
              "#0d0887"
             ],
             [
              0.1111111111111111,
              "#46039f"
             ],
             [
              0.2222222222222222,
              "#7201a8"
             ],
             [
              0.3333333333333333,
              "#9c179e"
             ],
             [
              0.4444444444444444,
              "#bd3786"
             ],
             [
              0.5555555555555556,
              "#d8576b"
             ],
             [
              0.6666666666666666,
              "#ed7953"
             ],
             [
              0.7777777777777778,
              "#fb9f3a"
             ],
             [
              0.8888888888888888,
              "#fdca26"
             ],
             [
              1,
              "#f0f921"
             ]
            ],
            "type": "heatmapgl"
           }
          ],
          "histogram": [
           {
            "marker": {
             "pattern": {
              "fillmode": "overlay",
              "size": 10,
              "solidity": 0.2
             }
            },
            "type": "histogram"
           }
          ],
          "histogram2d": [
           {
            "colorbar": {
             "outlinewidth": 0,
             "ticks": ""
            },
            "colorscale": [
             [
              0,
              "#0d0887"
             ],
             [
              0.1111111111111111,
              "#46039f"
             ],
             [
              0.2222222222222222,
              "#7201a8"
             ],
             [
              0.3333333333333333,
              "#9c179e"
             ],
             [
              0.4444444444444444,
              "#bd3786"
             ],
             [
              0.5555555555555556,
              "#d8576b"
             ],
             [
              0.6666666666666666,
              "#ed7953"
             ],
             [
              0.7777777777777778,
              "#fb9f3a"
             ],
             [
              0.8888888888888888,
              "#fdca26"
             ],
             [
              1,
              "#f0f921"
             ]
            ],
            "type": "histogram2d"
           }
          ],
          "histogram2dcontour": [
           {
            "colorbar": {
             "outlinewidth": 0,
             "ticks": ""
            },
            "colorscale": [
             [
              0,
              "#0d0887"
             ],
             [
              0.1111111111111111,
              "#46039f"
             ],
             [
              0.2222222222222222,
              "#7201a8"
             ],
             [
              0.3333333333333333,
              "#9c179e"
             ],
             [
              0.4444444444444444,
              "#bd3786"
             ],
             [
              0.5555555555555556,
              "#d8576b"
             ],
             [
              0.6666666666666666,
              "#ed7953"
             ],
             [
              0.7777777777777778,
              "#fb9f3a"
             ],
             [
              0.8888888888888888,
              "#fdca26"
             ],
             [
              1,
              "#f0f921"
             ]
            ],
            "type": "histogram2dcontour"
           }
          ],
          "mesh3d": [
           {
            "colorbar": {
             "outlinewidth": 0,
             "ticks": ""
            },
            "type": "mesh3d"
           }
          ],
          "parcoords": [
           {
            "line": {
             "colorbar": {
              "outlinewidth": 0,
              "ticks": ""
             }
            },
            "type": "parcoords"
           }
          ],
          "pie": [
           {
            "automargin": true,
            "type": "pie"
           }
          ],
          "scatter": [
           {
            "fillpattern": {
             "fillmode": "overlay",
             "size": 10,
             "solidity": 0.2
            },
            "type": "scatter"
           }
          ],
          "scatter3d": [
           {
            "line": {
             "colorbar": {
              "outlinewidth": 0,
              "ticks": ""
             }
            },
            "marker": {
             "colorbar": {
              "outlinewidth": 0,
              "ticks": ""
             }
            },
            "type": "scatter3d"
           }
          ],
          "scattercarpet": [
           {
            "marker": {
             "colorbar": {
              "outlinewidth": 0,
              "ticks": ""
             }
            },
            "type": "scattercarpet"
           }
          ],
          "scattergeo": [
           {
            "marker": {
             "colorbar": {
              "outlinewidth": 0,
              "ticks": ""
             }
            },
            "type": "scattergeo"
           }
          ],
          "scattergl": [
           {
            "marker": {
             "colorbar": {
              "outlinewidth": 0,
              "ticks": ""
             }
            },
            "type": "scattergl"
           }
          ],
          "scattermapbox": [
           {
            "marker": {
             "colorbar": {
              "outlinewidth": 0,
              "ticks": ""
             }
            },
            "type": "scattermapbox"
           }
          ],
          "scatterpolar": [
           {
            "marker": {
             "colorbar": {
              "outlinewidth": 0,
              "ticks": ""
             }
            },
            "type": "scatterpolar"
           }
          ],
          "scatterpolargl": [
           {
            "marker": {
             "colorbar": {
              "outlinewidth": 0,
              "ticks": ""
             }
            },
            "type": "scatterpolargl"
           }
          ],
          "scatterternary": [
           {
            "marker": {
             "colorbar": {
              "outlinewidth": 0,
              "ticks": ""
             }
            },
            "type": "scatterternary"
           }
          ],
          "surface": [
           {
            "colorbar": {
             "outlinewidth": 0,
             "ticks": ""
            },
            "colorscale": [
             [
              0,
              "#0d0887"
             ],
             [
              0.1111111111111111,
              "#46039f"
             ],
             [
              0.2222222222222222,
              "#7201a8"
             ],
             [
              0.3333333333333333,
              "#9c179e"
             ],
             [
              0.4444444444444444,
              "#bd3786"
             ],
             [
              0.5555555555555556,
              "#d8576b"
             ],
             [
              0.6666666666666666,
              "#ed7953"
             ],
             [
              0.7777777777777778,
              "#fb9f3a"
             ],
             [
              0.8888888888888888,
              "#fdca26"
             ],
             [
              1,
              "#f0f921"
             ]
            ],
            "type": "surface"
           }
          ],
          "table": [
           {
            "cells": {
             "fill": {
              "color": "#EBF0F8"
             },
             "line": {
              "color": "white"
             }
            },
            "header": {
             "fill": {
              "color": "#C8D4E3"
             },
             "line": {
              "color": "white"
             }
            },
            "type": "table"
           }
          ]
         },
         "layout": {
          "annotationdefaults": {
           "arrowcolor": "#2a3f5f",
           "arrowhead": 0,
           "arrowwidth": 1
          },
          "autotypenumbers": "strict",
          "coloraxis": {
           "colorbar": {
            "outlinewidth": 0,
            "ticks": ""
           }
          },
          "colorscale": {
           "diverging": [
            [
             0,
             "#8e0152"
            ],
            [
             0.1,
             "#c51b7d"
            ],
            [
             0.2,
             "#de77ae"
            ],
            [
             0.3,
             "#f1b6da"
            ],
            [
             0.4,
             "#fde0ef"
            ],
            [
             0.5,
             "#f7f7f7"
            ],
            [
             0.6,
             "#e6f5d0"
            ],
            [
             0.7,
             "#b8e186"
            ],
            [
             0.8,
             "#7fbc41"
            ],
            [
             0.9,
             "#4d9221"
            ],
            [
             1,
             "#276419"
            ]
           ],
           "sequential": [
            [
             0,
             "#0d0887"
            ],
            [
             0.1111111111111111,
             "#46039f"
            ],
            [
             0.2222222222222222,
             "#7201a8"
            ],
            [
             0.3333333333333333,
             "#9c179e"
            ],
            [
             0.4444444444444444,
             "#bd3786"
            ],
            [
             0.5555555555555556,
             "#d8576b"
            ],
            [
             0.6666666666666666,
             "#ed7953"
            ],
            [
             0.7777777777777778,
             "#fb9f3a"
            ],
            [
             0.8888888888888888,
             "#fdca26"
            ],
            [
             1,
             "#f0f921"
            ]
           ],
           "sequentialminus": [
            [
             0,
             "#0d0887"
            ],
            [
             0.1111111111111111,
             "#46039f"
            ],
            [
             0.2222222222222222,
             "#7201a8"
            ],
            [
             0.3333333333333333,
             "#9c179e"
            ],
            [
             0.4444444444444444,
             "#bd3786"
            ],
            [
             0.5555555555555556,
             "#d8576b"
            ],
            [
             0.6666666666666666,
             "#ed7953"
            ],
            [
             0.7777777777777778,
             "#fb9f3a"
            ],
            [
             0.8888888888888888,
             "#fdca26"
            ],
            [
             1,
             "#f0f921"
            ]
           ]
          },
          "colorway": [
           "#636efa",
           "#EF553B",
           "#00cc96",
           "#ab63fa",
           "#FFA15A",
           "#19d3f3",
           "#FF6692",
           "#B6E880",
           "#FF97FF",
           "#FECB52"
          ],
          "font": {
           "color": "#2a3f5f"
          },
          "geo": {
           "bgcolor": "white",
           "lakecolor": "white",
           "landcolor": "#E5ECF6",
           "showlakes": true,
           "showland": true,
           "subunitcolor": "white"
          },
          "hoverlabel": {
           "align": "left"
          },
          "hovermode": "closest",
          "mapbox": {
           "style": "light"
          },
          "paper_bgcolor": "white",
          "plot_bgcolor": "#E5ECF6",
          "polar": {
           "angularaxis": {
            "gridcolor": "white",
            "linecolor": "white",
            "ticks": ""
           },
           "bgcolor": "#E5ECF6",
           "radialaxis": {
            "gridcolor": "white",
            "linecolor": "white",
            "ticks": ""
           }
          },
          "scene": {
           "xaxis": {
            "backgroundcolor": "#E5ECF6",
            "gridcolor": "white",
            "gridwidth": 2,
            "linecolor": "white",
            "showbackground": true,
            "ticks": "",
            "zerolinecolor": "white"
           },
           "yaxis": {
            "backgroundcolor": "#E5ECF6",
            "gridcolor": "white",
            "gridwidth": 2,
            "linecolor": "white",
            "showbackground": true,
            "ticks": "",
            "zerolinecolor": "white"
           },
           "zaxis": {
            "backgroundcolor": "#E5ECF6",
            "gridcolor": "white",
            "gridwidth": 2,
            "linecolor": "white",
            "showbackground": true,
            "ticks": "",
            "zerolinecolor": "white"
           }
          },
          "shapedefaults": {
           "line": {
            "color": "#2a3f5f"
           }
          },
          "ternary": {
           "aaxis": {
            "gridcolor": "white",
            "linecolor": "white",
            "ticks": ""
           },
           "baxis": {
            "gridcolor": "white",
            "linecolor": "white",
            "ticks": ""
           },
           "bgcolor": "#E5ECF6",
           "caxis": {
            "gridcolor": "white",
            "linecolor": "white",
            "ticks": ""
           }
          },
          "title": {
           "x": 0.05
          },
          "xaxis": {
           "automargin": true,
           "gridcolor": "white",
           "linecolor": "white",
           "ticks": "",
           "title": {
            "standoff": 15
           },
           "zerolinecolor": "white",
           "zerolinewidth": 2
          },
          "yaxis": {
           "automargin": true,
           "gridcolor": "white",
           "linecolor": "white",
           "ticks": "",
           "title": {
            "standoff": 15
           },
           "zerolinecolor": "white",
           "zerolinewidth": 2
          }
         }
        },
        "title": {
         "text": "Execution time based on dataset size"
        },
        "xaxis": {
         "anchor": "y",
         "domain": [
          0,
          1
         ],
         "title": {
          "text": "n"
         }
        },
        "yaxis": {
         "anchor": "x",
         "domain": [
          0,
          1
         ],
         "title": {
          "text": "value"
         }
        }
       }
      }
     },
     "metadata": {},
     "output_type": "display_data"
    }
   ],
   "source": [
    "import plotly.express as px\n",
    "\n",
    "px.line(times, x='n', y=['before', 'after'], title='Execution time based on dataset size')"
   ]
  }
 ],
 "metadata": {
  "kernelspec": {
   "display_name": ".venv",
   "language": "python",
   "name": "python3"
  },
  "language_info": {
   "codemirror_mode": {
    "name": "ipython",
    "version": 3
   },
   "file_extension": ".py",
   "mimetype": "text/x-python",
   "name": "python",
   "nbconvert_exporter": "python",
   "pygments_lexer": "ipython3",
   "version": "3.12.0"
  }
 },
 "nbformat": 4,
 "nbformat_minor": 2
}
