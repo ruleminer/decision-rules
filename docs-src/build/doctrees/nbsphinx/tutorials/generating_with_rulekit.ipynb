{
 "cells": [
  {
   "cell_type": "markdown",
   "metadata": {},
   "source": [
    "# Generating rules with RuleKit\n",
    "\n",
    "Currently decision-rules does not generate rules. You can, however, generate rules using RuleKit and convert the model into decision-rules rule set.\n",
    "\n",
    "We will start by importing the RuleKit package."
   ]
  },
  {
   "cell_type": "code",
   "execution_count": 1,
   "metadata": {},
   "outputs": [],
   "source": [
    "import pandas as pd\n",
    "from rulekit import RuleKit\n",
    "from rulekit.classification import RuleClassifier\n",
    "from rulekit.params import Measures\n",
    "\n",
    "RuleKit.init()"
   ]
  },
  {
   "cell_type": "markdown",
   "metadata": {},
   "source": [
    "We will use the following zoo dataset:"
   ]
  },
  {
   "cell_type": "code",
   "execution_count": 2,
   "metadata": {},
   "outputs": [
    {
     "data": {
      "text/html": [
       "<div>\n",
       "<style scoped>\n",
       "    .dataframe tbody tr th:only-of-type {\n",
       "        vertical-align: middle;\n",
       "    }\n",
       "\n",
       "    .dataframe tbody tr th {\n",
       "        vertical-align: top;\n",
       "    }\n",
       "\n",
       "    .dataframe thead th {\n",
       "        text-align: right;\n",
       "    }\n",
       "</style>\n",
       "<table border=\"1\" class=\"dataframe\">\n",
       "  <thead>\n",
       "    <tr style=\"text-align: right;\">\n",
       "      <th></th>\n",
       "      <th>hair</th>\n",
       "      <th>feathers</th>\n",
       "      <th>eggs</th>\n",
       "      <th>milk</th>\n",
       "      <th>airborne</th>\n",
       "      <th>aquatic</th>\n",
       "      <th>predator</th>\n",
       "      <th>toothed</th>\n",
       "      <th>backbone</th>\n",
       "      <th>breathes</th>\n",
       "      <th>venomous</th>\n",
       "      <th>fins</th>\n",
       "      <th>legs</th>\n",
       "      <th>tail</th>\n",
       "      <th>domestic</th>\n",
       "      <th>catsize</th>\n",
       "      <th>class</th>\n",
       "    </tr>\n",
       "  </thead>\n",
       "  <tbody>\n",
       "    <tr>\n",
       "      <th>0</th>\n",
       "      <td>True</td>\n",
       "      <td>False</td>\n",
       "      <td>False</td>\n",
       "      <td>True</td>\n",
       "      <td>False</td>\n",
       "      <td>False</td>\n",
       "      <td>True</td>\n",
       "      <td>True</td>\n",
       "      <td>True</td>\n",
       "      <td>True</td>\n",
       "      <td>False</td>\n",
       "      <td>False</td>\n",
       "      <td>4.0</td>\n",
       "      <td>False</td>\n",
       "      <td>False</td>\n",
       "      <td>True</td>\n",
       "      <td>mammal</td>\n",
       "    </tr>\n",
       "    <tr>\n",
       "      <th>1</th>\n",
       "      <td>True</td>\n",
       "      <td>False</td>\n",
       "      <td>False</td>\n",
       "      <td>True</td>\n",
       "      <td>False</td>\n",
       "      <td>False</td>\n",
       "      <td>False</td>\n",
       "      <td>True</td>\n",
       "      <td>True</td>\n",
       "      <td>True</td>\n",
       "      <td>False</td>\n",
       "      <td>False</td>\n",
       "      <td>4.0</td>\n",
       "      <td>True</td>\n",
       "      <td>False</td>\n",
       "      <td>True</td>\n",
       "      <td>mammal</td>\n",
       "    </tr>\n",
       "    <tr>\n",
       "      <th>2</th>\n",
       "      <td>False</td>\n",
       "      <td>False</td>\n",
       "      <td>True</td>\n",
       "      <td>False</td>\n",
       "      <td>False</td>\n",
       "      <td>True</td>\n",
       "      <td>True</td>\n",
       "      <td>True</td>\n",
       "      <td>True</td>\n",
       "      <td>False</td>\n",
       "      <td>False</td>\n",
       "      <td>True</td>\n",
       "      <td>0.0</td>\n",
       "      <td>True</td>\n",
       "      <td>False</td>\n",
       "      <td>False</td>\n",
       "      <td>fish</td>\n",
       "    </tr>\n",
       "    <tr>\n",
       "      <th>3</th>\n",
       "      <td>True</td>\n",
       "      <td>False</td>\n",
       "      <td>False</td>\n",
       "      <td>True</td>\n",
       "      <td>False</td>\n",
       "      <td>False</td>\n",
       "      <td>True</td>\n",
       "      <td>True</td>\n",
       "      <td>True</td>\n",
       "      <td>True</td>\n",
       "      <td>False</td>\n",
       "      <td>False</td>\n",
       "      <td>4.0</td>\n",
       "      <td>False</td>\n",
       "      <td>False</td>\n",
       "      <td>True</td>\n",
       "      <td>mammal</td>\n",
       "    </tr>\n",
       "    <tr>\n",
       "      <th>4</th>\n",
       "      <td>True</td>\n",
       "      <td>False</td>\n",
       "      <td>False</td>\n",
       "      <td>True</td>\n",
       "      <td>False</td>\n",
       "      <td>False</td>\n",
       "      <td>True</td>\n",
       "      <td>True</td>\n",
       "      <td>True</td>\n",
       "      <td>True</td>\n",
       "      <td>False</td>\n",
       "      <td>False</td>\n",
       "      <td>4.0</td>\n",
       "      <td>True</td>\n",
       "      <td>False</td>\n",
       "      <td>True</td>\n",
       "      <td>mammal</td>\n",
       "    </tr>\n",
       "    <tr>\n",
       "      <th>...</th>\n",
       "      <td>...</td>\n",
       "      <td>...</td>\n",
       "      <td>...</td>\n",
       "      <td>...</td>\n",
       "      <td>...</td>\n",
       "      <td>...</td>\n",
       "      <td>...</td>\n",
       "      <td>...</td>\n",
       "      <td>...</td>\n",
       "      <td>...</td>\n",
       "      <td>...</td>\n",
       "      <td>...</td>\n",
       "      <td>...</td>\n",
       "      <td>...</td>\n",
       "      <td>...</td>\n",
       "      <td>...</td>\n",
       "      <td>...</td>\n",
       "    </tr>\n",
       "    <tr>\n",
       "      <th>96</th>\n",
       "      <td>True</td>\n",
       "      <td>False</td>\n",
       "      <td>False</td>\n",
       "      <td>True</td>\n",
       "      <td>False</td>\n",
       "      <td>False</td>\n",
       "      <td>False</td>\n",
       "      <td>True</td>\n",
       "      <td>True</td>\n",
       "      <td>True</td>\n",
       "      <td>False</td>\n",
       "      <td>False</td>\n",
       "      <td>2.0</td>\n",
       "      <td>True</td>\n",
       "      <td>False</td>\n",
       "      <td>True</td>\n",
       "      <td>mammal</td>\n",
       "    </tr>\n",
       "    <tr>\n",
       "      <th>97</th>\n",
       "      <td>True</td>\n",
       "      <td>False</td>\n",
       "      <td>True</td>\n",
       "      <td>False</td>\n",
       "      <td>True</td>\n",
       "      <td>False</td>\n",
       "      <td>False</td>\n",
       "      <td>False</td>\n",
       "      <td>False</td>\n",
       "      <td>True</td>\n",
       "      <td>True</td>\n",
       "      <td>False</td>\n",
       "      <td>6.0</td>\n",
       "      <td>False</td>\n",
       "      <td>False</td>\n",
       "      <td>False</td>\n",
       "      <td>insect</td>\n",
       "    </tr>\n",
       "    <tr>\n",
       "      <th>98</th>\n",
       "      <td>True</td>\n",
       "      <td>False</td>\n",
       "      <td>False</td>\n",
       "      <td>True</td>\n",
       "      <td>False</td>\n",
       "      <td>False</td>\n",
       "      <td>True</td>\n",
       "      <td>True</td>\n",
       "      <td>True</td>\n",
       "      <td>True</td>\n",
       "      <td>False</td>\n",
       "      <td>False</td>\n",
       "      <td>4.0</td>\n",
       "      <td>True</td>\n",
       "      <td>False</td>\n",
       "      <td>True</td>\n",
       "      <td>mammal</td>\n",
       "    </tr>\n",
       "    <tr>\n",
       "      <th>99</th>\n",
       "      <td>False</td>\n",
       "      <td>False</td>\n",
       "      <td>True</td>\n",
       "      <td>False</td>\n",
       "      <td>False</td>\n",
       "      <td>False</td>\n",
       "      <td>False</td>\n",
       "      <td>False</td>\n",
       "      <td>False</td>\n",
       "      <td>True</td>\n",
       "      <td>False</td>\n",
       "      <td>False</td>\n",
       "      <td>0.0</td>\n",
       "      <td>False</td>\n",
       "      <td>False</td>\n",
       "      <td>False</td>\n",
       "      <td>invertebrate</td>\n",
       "    </tr>\n",
       "    <tr>\n",
       "      <th>100</th>\n",
       "      <td>False</td>\n",
       "      <td>True</td>\n",
       "      <td>True</td>\n",
       "      <td>False</td>\n",
       "      <td>True</td>\n",
       "      <td>False</td>\n",
       "      <td>False</td>\n",
       "      <td>False</td>\n",
       "      <td>True</td>\n",
       "      <td>True</td>\n",
       "      <td>False</td>\n",
       "      <td>False</td>\n",
       "      <td>2.0</td>\n",
       "      <td>True</td>\n",
       "      <td>False</td>\n",
       "      <td>False</td>\n",
       "      <td>bird</td>\n",
       "    </tr>\n",
       "  </tbody>\n",
       "</table>\n",
       "<p>101 rows × 17 columns</p>\n",
       "</div>"
      ],
      "text/plain": [
       "      hair  feathers   eggs   milk  airborne  aquatic  predator  toothed  \\\n",
       "0     True     False  False   True     False    False      True     True   \n",
       "1     True     False  False   True     False    False     False     True   \n",
       "2    False     False   True  False     False     True      True     True   \n",
       "3     True     False  False   True     False    False      True     True   \n",
       "4     True     False  False   True     False    False      True     True   \n",
       "..     ...       ...    ...    ...       ...      ...       ...      ...   \n",
       "96    True     False  False   True     False    False     False     True   \n",
       "97    True     False   True  False      True    False     False    False   \n",
       "98    True     False  False   True     False    False      True     True   \n",
       "99   False     False   True  False     False    False     False    False   \n",
       "100  False      True   True  False      True    False     False    False   \n",
       "\n",
       "     backbone  breathes  venomous   fins  legs   tail  domestic  catsize  \\\n",
       "0        True      True     False  False   4.0  False     False     True   \n",
       "1        True      True     False  False   4.0   True     False     True   \n",
       "2        True     False     False   True   0.0   True     False    False   \n",
       "3        True      True     False  False   4.0  False     False     True   \n",
       "4        True      True     False  False   4.0   True     False     True   \n",
       "..        ...       ...       ...    ...   ...    ...       ...      ...   \n",
       "96       True      True     False  False   2.0   True     False     True   \n",
       "97      False      True      True  False   6.0  False     False    False   \n",
       "98       True      True     False  False   4.0   True     False     True   \n",
       "99      False      True     False  False   0.0  False     False    False   \n",
       "100      True      True     False  False   2.0   True     False    False   \n",
       "\n",
       "            class  \n",
       "0          mammal  \n",
       "1          mammal  \n",
       "2            fish  \n",
       "3          mammal  \n",
       "4          mammal  \n",
       "..            ...  \n",
       "96         mammal  \n",
       "97         insect  \n",
       "98         mammal  \n",
       "99   invertebrate  \n",
       "100          bird  \n",
       "\n",
       "[101 rows x 17 columns]"
      ]
     },
     "metadata": {},
     "output_type": "display_data"
    }
   ],
   "source": [
    "df = pd.read_csv(\"resources/zoo.csv\")\n",
    "display(df)"
   ]
  },
  {
   "cell_type": "markdown",
   "metadata": {},
   "source": [
    "The `class` column will be our target `y` and the other columns will be predictors `X`."
   ]
  },
  {
   "cell_type": "code",
   "execution_count": 3,
   "metadata": {},
   "outputs": [],
   "source": [
    "X = df.drop(\"class\", axis=1)\n",
    "y = df[\"class\"]"
   ]
  },
  {
   "cell_type": "markdown",
   "metadata": {},
   "source": [
    "Now we will generate the rules using RuleKit. We just need to create a `RuleClassifier` object and train it using the `fit` function."
   ]
  },
  {
   "cell_type": "code",
   "execution_count": 4,
   "metadata": {},
   "outputs": [
    {
     "data": {
      "text/plain": [
       "<rulekit.classification.RuleClassifier at 0x7f5dcda44490>"
      ]
     },
     "execution_count": 4,
     "metadata": {},
     "output_type": "execute_result"
    }
   ],
   "source": [
    "rulekit_model = RuleClassifier()\n",
    "rulekit_model.fit(X, y)"
   ]
  },
  {
   "cell_type": "markdown",
   "metadata": {},
   "source": [
    "Let's see the generated rules."
   ]
  },
  {
   "cell_type": "code",
   "execution_count": 5,
   "metadata": {},
   "outputs": [
    {
     "name": "stdout",
     "output_type": "stream",
     "text": [
      "IF aquatic = <0.50, inf) AND legs = <3, inf) AND toothed = <0.50, inf) AND hair = (-inf, 0.50) THEN class = {amphibian}\n",
      "IF feathers = <0.50, inf) THEN class = {bird}\n",
      "IF fins = <0.50, inf) AND eggs = <0.50, inf) THEN class = {fish}\n",
      "IF legs = <5.50, inf) AND aquatic = (-inf, 0.50) AND eggs = <0.50, inf) THEN class = {insect}\n",
      "IF backbone = (-inf, 0.50) AND airborne = (-inf, 0.50) THEN class = {invertebrate}\n",
      "IF milk = <0.50, inf) THEN class = {mammal}\n",
      "IF toothed = <0.50, inf) AND fins = (-inf, 0.50) AND legs = (-inf, 2) THEN class = {reptile}\n",
      "IF hair = (-inf, 0.50) AND toothed = <0.50, inf) AND aquatic = (-inf, 0.50) THEN class = {reptile}\n",
      "IF hair = (-inf, 0.50) AND feathers = (-inf, 0.50) AND aquatic = (-inf, 0.50) AND backbone = <0.50, inf) THEN class = {reptile}\n"
     ]
    }
   ],
   "source": [
    "\n",
    "for rule in rulekit_model.model.rules:\n",
    "    print(rule)"
   ]
  },
  {
   "cell_type": "markdown",
   "metadata": {},
   "source": [
    "The `RuleKitRuleSetFactory` from `ruleset_factories` converts the RuleKit model to decision-rules rule set."
   ]
  },
  {
   "cell_type": "code",
   "execution_count": 6,
   "metadata": {},
   "outputs": [],
   "source": [
    "from ruleset_factories._factories.classification import RuleKitRuleSetFactory\n",
    "factory = RuleKitRuleSetFactory()\n",
    "decision_rules_ruleset = factory.make(rulekit_model, X, y)"
   ]
  },
  {
   "cell_type": "markdown",
   "metadata": {},
   "source": [
    "Let's check if the rules in `decision_rules_ruleset` are the same as in `rulekit_model`."
   ]
  },
  {
   "cell_type": "code",
   "execution_count": 7,
   "metadata": {},
   "outputs": [
    {
     "name": "stdout",
     "output_type": "stream",
     "text": [
      "IF aquatic >= 0.50 AND legs >= 3.00 AND toothed >= 0.50 AND hair < 0.50 THEN class = amphibian (p=4, n=0, P=4, N=97)\n",
      "IF feathers >= 0.50 THEN class = bird (p=20, n=0, P=20, N=81)\n",
      "IF fins >= 0.50 AND eggs >= 0.50 THEN class = fish (p=13, n=0, P=13, N=88)\n",
      "IF legs >= 5.50 AND aquatic < 0.50 AND eggs >= 0.50 THEN class = insect (p=8, n=0, P=8, N=93)\n",
      "IF backbone < 0.50 AND airborne < 0.50 THEN class = invertebrate (p=10, n=2, P=10, N=91)\n",
      "IF milk >= 0.50 THEN class = mammal (p=41, n=0, P=41, N=60)\n",
      "IF toothed >= 0.50 AND fins < 0.50 AND legs < 2.00 THEN class = reptile (p=3, n=0, P=5, N=96)\n",
      "IF hair < 0.50 AND toothed >= 0.50 AND aquatic < 0.50 THEN class = reptile (p=3, n=0, P=5, N=96)\n",
      "IF hair < 0.50 AND feathers < 0.50 AND aquatic < 0.50 AND backbone >= 0.50 THEN class = reptile (p=4, n=0, P=5, N=96)\n"
     ]
    }
   ],
   "source": [
    "for rule in decision_rules_ruleset.rules:\n",
    "    print(rule)"
   ]
  },
  {
   "cell_type": "markdown",
   "metadata": {},
   "source": [
    "We can now predict values using `decision_rules_ruleset` and calculate various statistics describing the rules."
   ]
  },
  {
   "cell_type": "code",
   "execution_count": 8,
   "metadata": {},
   "outputs": [
    {
     "data": {
      "text/plain": [
       "array(['mammal', 'mammal', 'fish', 'mammal', 'mammal', 'mammal', 'mammal',\n",
       "       'fish', 'fish', 'mammal', 'mammal', 'bird', 'fish', 'invertebrate',\n",
       "       'invertebrate', 'invertebrate', 'bird', 'mammal', 'fish', 'mammal',\n",
       "       'bird', 'bird', 'mammal', 'bird', 'insect', 'amphibian',\n",
       "       'amphibian', 'mammal', 'mammal', 'mammal', 'insect', 'mammal',\n",
       "       'mammal', 'bird', 'fish', 'mammal', 'mammal', 'bird', 'fish',\n",
       "       'insect', 'insect', 'bird', 'insect', 'bird', 'mammal', 'mammal',\n",
       "       'invertebrate', 'mammal', 'mammal', 'mammal', 'mammal', 'insect',\n",
       "       'amphibian', 'invertebrate', 'mammal', 'mammal', 'bird', 'bird',\n",
       "       'bird', 'bird', 'fish', 'fish', 'reptile', 'mammal', 'mammal',\n",
       "       'mammal', 'mammal', 'mammal', 'mammal', 'mammal', 'mammal', 'bird',\n",
       "       'invertebrate', 'fish', 'mammal', 'mammal', 'reptile',\n",
       "       'invertebrate', 'bird', 'bird', 'reptile', 'invertebrate', 'fish',\n",
       "       'bird', 'mammal', 'invertebrate', 'fish', 'bird', 'insect',\n",
       "       'amphibian', 'reptile', 'reptile', 'fish', 'mammal', 'mammal',\n",
       "       'bird', 'mammal', 'insect', 'mammal', 'invertebrate', 'bird'],\n",
       "      dtype='<U12')"
      ]
     },
     "metadata": {},
     "output_type": "display_data"
    }
   ],
   "source": [
    "y_pred = decision_rules_ruleset.predict(X)\n",
    "display(y_pred)"
   ]
  },
  {
   "cell_type": "markdown",
   "metadata": {},
   "source": [
    "The `calculate_for_classification` function computes the usual classification metrics, such as accuracy or F1."
   ]
  },
  {
   "cell_type": "code",
   "execution_count": 9,
   "metadata": {},
   "outputs": [
    {
     "data": {
      "text/plain": [
       "{'type_of_problem': 'classification',\n",
       " 'general': {'Balanced_accuracy': 1.0,\n",
       "  'Accuracy': 1.0,\n",
       "  'Cohen_kappa': 1.0,\n",
       "  'F1_micro': 1.0,\n",
       "  'F1_macro': 1.0,\n",
       "  'F1_weighted': 1.0,\n",
       "  'G_mean_micro': 1.0,\n",
       "  'G_mean_macro': 1.0,\n",
       "  'G_mean_weighted': 1.0,\n",
       "  'Recall_micro': 1.0,\n",
       "  'Recall_macro': 1.0,\n",
       "  'Recall_weighted': 1.0,\n",
       "  'Specificity': 1.0,\n",
       "  'Confusion_matrix': {'classes': ['amphibian',\n",
       "    'bird',\n",
       "    'fish',\n",
       "    'insect',\n",
       "    'invertebrate',\n",
       "    'mammal',\n",
       "    'reptile'],\n",
       "   'amphibian': [4, 0, 0, 0, 0, 0, 0],\n",
       "   'bird': [0, 20, 0, 0, 0, 0, 0],\n",
       "   'fish': [0, 0, 13, 0, 0, 0, 0],\n",
       "   'insect': [0, 0, 0, 8, 0, 0, 0],\n",
       "   'invertebrate': [0, 0, 0, 0, 10, 0, 0],\n",
       "   'mammal': [0, 0, 0, 0, 0, 41, 0],\n",
       "   'reptile': [0, 0, 0, 0, 0, 0, 5]}},\n",
       " 'for_classes': {'amphibian': {'TP': 4,\n",
       "   'FP': 0,\n",
       "   'TN': 97,\n",
       "   'FN': 0,\n",
       "   'Recall': 1.0,\n",
       "   'Specificity': 1.0,\n",
       "   'F1_score': 1.0,\n",
       "   'G_mean': 1.0,\n",
       "   'MCC': 1.0,\n",
       "   'PPV': 1.0,\n",
       "   'NPV': 1.0,\n",
       "   'LR_plus': 0,\n",
       "   'LR_minus': 0.0,\n",
       "   'Odd_ratio': 0,\n",
       "   'Relative_risk': 0,\n",
       "   'Confusion_matrix': {'classes': ['amphibian', 'other'],\n",
       "    'amphibian': [4, 0],\n",
       "    'other': [0, 97]}},\n",
       "  'bird': {'TP': 20,\n",
       "   'FP': 0,\n",
       "   'TN': 81,\n",
       "   'FN': 0,\n",
       "   'Recall': 1.0,\n",
       "   'Specificity': 1.0,\n",
       "   'F1_score': 1.0,\n",
       "   'G_mean': 1.0,\n",
       "   'MCC': 1.0,\n",
       "   'PPV': 1.0,\n",
       "   'NPV': 1.0,\n",
       "   'LR_plus': 0,\n",
       "   'LR_minus': 0.0,\n",
       "   'Odd_ratio': 0,\n",
       "   'Relative_risk': 0,\n",
       "   'Confusion_matrix': {'classes': ['bird', 'other'],\n",
       "    'bird': [20, 0],\n",
       "    'other': [0, 81]}},\n",
       "  'fish': {'TP': 13,\n",
       "   'FP': 0,\n",
       "   'TN': 88,\n",
       "   'FN': 0,\n",
       "   'Recall': 1.0,\n",
       "   'Specificity': 1.0,\n",
       "   'F1_score': 1.0,\n",
       "   'G_mean': 1.0,\n",
       "   'MCC': 1.0,\n",
       "   'PPV': 1.0,\n",
       "   'NPV': 1.0,\n",
       "   'LR_plus': 0,\n",
       "   'LR_minus': 0.0,\n",
       "   'Odd_ratio': 0,\n",
       "   'Relative_risk': 0,\n",
       "   'Confusion_matrix': {'classes': ['fish', 'other'],\n",
       "    'fish': [13, 0],\n",
       "    'other': [0, 88]}},\n",
       "  'insect': {'TP': 8,\n",
       "   'FP': 0,\n",
       "   'TN': 93,\n",
       "   'FN': 0,\n",
       "   'Recall': 1.0,\n",
       "   'Specificity': 1.0,\n",
       "   'F1_score': 1.0,\n",
       "   'G_mean': 1.0,\n",
       "   'MCC': 1.0,\n",
       "   'PPV': 1.0,\n",
       "   'NPV': 1.0,\n",
       "   'LR_plus': 0,\n",
       "   'LR_minus': 0.0,\n",
       "   'Odd_ratio': 0,\n",
       "   'Relative_risk': 0,\n",
       "   'Confusion_matrix': {'classes': ['insect', 'other'],\n",
       "    'insect': [8, 0],\n",
       "    'other': [0, 93]}},\n",
       "  'invertebrate': {'TP': 10,\n",
       "   'FP': 0,\n",
       "   'TN': 91,\n",
       "   'FN': 0,\n",
       "   'Recall': 1.0,\n",
       "   'Specificity': 1.0,\n",
       "   'F1_score': 1.0,\n",
       "   'G_mean': 1.0,\n",
       "   'MCC': 1.0,\n",
       "   'PPV': 1.0,\n",
       "   'NPV': 1.0,\n",
       "   'LR_plus': 0,\n",
       "   'LR_minus': 0.0,\n",
       "   'Odd_ratio': 0,\n",
       "   'Relative_risk': 0,\n",
       "   'Confusion_matrix': {'classes': ['invertebrate', 'other'],\n",
       "    'invertebrate': [10, 0],\n",
       "    'other': [0, 91]}},\n",
       "  'mammal': {'TP': 41,\n",
       "   'FP': 0,\n",
       "   'TN': 60,\n",
       "   'FN': 0,\n",
       "   'Recall': 1.0,\n",
       "   'Specificity': 1.0,\n",
       "   'F1_score': 1.0,\n",
       "   'G_mean': 1.0,\n",
       "   'MCC': 1.0,\n",
       "   'PPV': 1.0,\n",
       "   'NPV': 1.0,\n",
       "   'LR_plus': 0,\n",
       "   'LR_minus': 0.0,\n",
       "   'Odd_ratio': 0,\n",
       "   'Relative_risk': 0,\n",
       "   'Confusion_matrix': {'classes': ['mammal', 'other'],\n",
       "    'mammal': [41, 0],\n",
       "    'other': [0, 60]}},\n",
       "  'reptile': {'TP': 5,\n",
       "   'FP': 0,\n",
       "   'TN': 96,\n",
       "   'FN': 0,\n",
       "   'Recall': 1.0,\n",
       "   'Specificity': 1.0,\n",
       "   'F1_score': 1.0,\n",
       "   'G_mean': 1.0,\n",
       "   'MCC': 1.0,\n",
       "   'PPV': 1.0,\n",
       "   'NPV': 1.0,\n",
       "   'LR_plus': 0,\n",
       "   'LR_minus': 0.0,\n",
       "   'Odd_ratio': 0,\n",
       "   'Relative_risk': 0,\n",
       "   'Confusion_matrix': {'classes': ['reptile', 'other'],\n",
       "    'reptile': [5, 0],\n",
       "    'other': [0, 96]}}}}"
      ]
     },
     "metadata": {},
     "output_type": "display_data"
    }
   ],
   "source": [
    "from decision_rules.classification.prediction_indicators import calculate_for_classification\n",
    "metrics = calculate_for_classification(y, y_pred)\n",
    "display(metrics)"
   ]
  },
  {
   "cell_type": "markdown",
   "metadata": {},
   "source": [
    "`calculate_ruleset_stats` shows some general information about the rule set."
   ]
  },
  {
   "cell_type": "code",
   "execution_count": 10,
   "metadata": {},
   "outputs": [
    {
     "name": "stdout",
     "output_type": "stream",
     "text": [
      "{'rules_count': 9, 'avg_conditions_count': 2.56, 'avg_precision': 0.98, 'avg_coverage': 0.89, 'total_conditions_count': 23}\n"
     ]
    }
   ],
   "source": [
    "general_stats = decision_rules_ruleset.calculate_ruleset_stats()\n",
    "print(general_stats)"
   ]
  },
  {
   "cell_type": "markdown",
   "metadata": {},
   "source": [
    "You can compute metrics describing each rule using `calculate_rules_metrics`."
   ]
  },
  {
   "cell_type": "code",
   "execution_count": 11,
   "metadata": {},
   "outputs": [
    {
     "name": "stdout",
     "output_type": "stream",
     "text": [
      "Rule 3357850a-4701-41ee-92f5-17d524564033\n",
      "{'p': 4, 'n': 0, 'P': 4, 'N': 97, 'p_unique': 4, 'n_unique': 4, 'support': 4, 'conditions_count': 4, 'precision': 1.0, 'coverage': 1.0, 'C2': 1.0, 'RSS': 1.0, 'correlation': 1.0, 'lift': 25.25, 'p_value': 2.4492245142881635e-07, 'TP': 4, 'FP': 0, 'TN': 97, 'FN': 0, 'sensitivity': 1.0, 'specificity': 1.0, 'negative_predictive_value': 1.0, 'odds_ratio': inf, 'relative_risk': inf, 'lr+': inf, 'lr-': 0.0}\n",
      "Rule 0d28724c-56c4-47bb-847e-96fc60e191d9\n",
      "{'p': 20, 'n': 0, 'P': 20, 'N': 81, 'p_unique': 20, 'n_unique': 20, 'support': 20, 'conditions_count': 1, 'precision': 1.0, 'coverage': 1.0, 'C2': 1.0, 'RSS': 1.0, 'correlation': 1.0, 'lift': 5.05, 'p_value': 1.4962781353003363e-21, 'TP': 20, 'FP': 0, 'TN': 81, 'FN': 0, 'sensitivity': 1.0, 'specificity': 1.0, 'negative_predictive_value': 1.0, 'odds_ratio': inf, 'relative_risk': inf, 'lr+': inf, 'lr-': 0.0}\n",
      "Rule 9804e9ab-07d5-4954-8a32-22cb0033196a\n",
      "{'p': 13, 'n': 0, 'P': 13, 'N': 88, 'p_unique': 13, 'n_unique': 13, 'support': 13, 'conditions_count': 2, 'precision': 1.0, 'coverage': 1.0, 'C2': 1.0, 'RSS': 1.0, 'correlation': 1.0, 'lift': 7.769230769230769, 'p_value': 1.225345504562382e-16, 'TP': 13, 'FP': 0, 'TN': 88, 'FN': 0, 'sensitivity': 1.0, 'specificity': 1.0, 'negative_predictive_value': 1.0, 'odds_ratio': inf, 'relative_risk': inf, 'lr+': inf, 'lr-': 0.0}\n",
      "Rule d7aa0f70-1492-4114-99f7-2a26a000c366\n",
      "{'p': 8, 'n': 0, 'P': 8, 'N': 93, 'p_unique': 8, 'n_unique': 8, 'support': 8, 'conditions_count': 3, 'precision': 1.0, 'coverage': 1.0, 'C2': 1.0, 'RSS': 1.0, 'correlation': 1.0, 'lift': 12.625, 'p_value': 4.948156798010051e-12, 'TP': 8, 'FP': 0, 'TN': 93, 'FN': 0, 'sensitivity': 1.0, 'specificity': 1.0, 'negative_predictive_value': 1.0, 'odds_ratio': inf, 'relative_risk': inf, 'lr+': inf, 'lr-': 0.0}\n",
      "Rule 787b7170-b084-4830-a995-dd39cfe2ca15\n",
      "{'p': 10, 'n': 2, 'P': 10, 'N': 91, 'p_unique': 10, 'n_unique': 10, 'support': 12, 'conditions_count': 2, 'precision': 0.8333333333333334, 'coverage': 1.0, 'C2': 0.8150183150183151, 'RSS': 0.978021978021978, 'correlation': 0.9027836479568707, 'lift': 8.416666666666666, 'p_value': 3.4352561220406376e-12, 'TP': 10, 'FP': 2, 'TN': 89, 'FN': 0, 'sensitivity': 1.0, 'specificity': 0.978021978021978, 'negative_predictive_value': 1.0, 'odds_ratio': inf, 'relative_risk': inf, 'lr+': 45.49999999999993, 'lr-': 0.0}\n",
      "Rule 67f18dcb-1a70-43ad-9e16-713daedc5eca\n",
      "{'p': 41, 'n': 0, 'P': 41, 'N': 60, 'p_unique': 41, 'n_unique': 41, 'support': 41, 'conditions_count': 1, 'precision': 1.0, 'coverage': 1.0, 'C2': 1.0, 'RSS': 1.0, 'correlation': 1.0, 'lift': 2.4634146341463414, 'p_value': 2.95310402655518e-29, 'TP': 41, 'FP': 0, 'TN': 60, 'FN': 0, 'sensitivity': 1.0, 'specificity': 1.0, 'negative_predictive_value': 1.0, 'odds_ratio': inf, 'relative_risk': inf, 'lr+': inf, 'lr-': 0.0}\n",
      "Rule d122f503-9a1c-40b4-a879-a8452235ef9f\n",
      "{'p': 3, 'n': 0, 'P': 5, 'N': 96, 'p_unique': 3, 'n_unique': 3, 'support': 3, 'conditions_count': 3, 'precision': 1.0, 'coverage': 0.6, 'C2': 0.8, 'RSS': 0.6, 'correlation': 0.766651877999928, 'lift': 20.2, 'p_value': 6.000600060006002e-05, 'TP': 3, 'FP': 0, 'TN': 96, 'FN': 2, 'sensitivity': 0.6, 'specificity': 1.0, 'negative_predictive_value': 0.9795918367346939, 'odds_ratio': inf, 'relative_risk': 49.0, 'lr+': inf, 'lr-': 0.4}\n",
      "Rule cce9a48a-ffd9-4636-9330-c9c991d0a15d\n",
      "{'p': 3, 'n': 0, 'P': 5, 'N': 96, 'p_unique': 3, 'n_unique': 3, 'support': 3, 'conditions_count': 3, 'precision': 1.0, 'coverage': 0.6, 'C2': 0.8, 'RSS': 0.6, 'correlation': 0.766651877999928, 'lift': 20.2, 'p_value': 6.000600060006002e-05, 'TP': 3, 'FP': 0, 'TN': 96, 'FN': 2, 'sensitivity': 0.6, 'specificity': 1.0, 'negative_predictive_value': 0.9795918367346939, 'odds_ratio': inf, 'relative_risk': 49.0, 'lr+': inf, 'lr-': 0.4}\n",
      "Rule 0485665e-f92e-42f5-86e5-d05625076cd8\n",
      "{'p': 4, 'n': 0, 'P': 5, 'N': 96, 'p_unique': 4, 'n_unique': 4, 'support': 4, 'conditions_count': 4, 'precision': 1.0, 'coverage': 0.8, 'C2': 0.9, 'RSS': 0.8, 'correlation': 0.8898047973120777, 'lift': 20.2, 'p_value': 1.2246122571440818e-06, 'TP': 4, 'FP': 0, 'TN': 96, 'FN': 1, 'sensitivity': 0.8, 'specificity': 1.0, 'negative_predictive_value': 0.9896907216494846, 'odds_ratio': inf, 'relative_risk': 97.0, 'lr+': inf, 'lr-': 0.19999999999999996}\n"
     ]
    }
   ],
   "source": [
    "metrics = decision_rules_ruleset.calculate_rules_metrics(X, y)\n",
    "for rule_id, metrics in metrics.items():\n",
    "    print('Rule', rule_id)\n",
    "    print(metrics)"
   ]
  },
  {
   "cell_type": "markdown",
   "metadata": {},
   "source": [
    "The `calculate_condition_importances` finds the importance of each condition from the rule set. Similarily, `calculate_attribute_importances` calculates the importance of attributes."
   ]
  },
  {
   "cell_type": "code",
   "execution_count": 12,
   "metadata": {},
   "outputs": [
    {
     "name": "stdout",
     "output_type": "stream",
     "text": [
      "Condition importances:\n"
     ]
    },
    {
     "data": {
      "text/plain": [
       "{'amphibian': [{'condition': 'legs >= 3.00',\n",
       "   'attributes': ['legs'],\n",
       "   'importance': 0.21835455831817263},\n",
       "  {'condition': 'toothed >= 0.50',\n",
       "   'attributes': ['toothed'],\n",
       "   'importance': 0.15137644827521457},\n",
       "  {'condition': 'aquatic >= 0.50',\n",
       "   'attributes': ['aquatic'],\n",
       "   'importance': 0.0706758304696449},\n",
       "  {'condition': 'hair < 0.50',\n",
       "   'attributes': ['hair'],\n",
       "   'importance': 0.05970494134376112}],\n",
       " 'bird': [{'condition': 'feathers >= 0.50',\n",
       "   'attributes': ['feathers'],\n",
       "   'importance': 1.0}],\n",
       " 'fish': [{'condition': 'fins >= 0.50',\n",
       "   'attributes': ['fins'],\n",
       "   'importance': 0.812392368349497},\n",
       "  {'condition': 'eggs >= 0.50',\n",
       "   'attributes': ['eggs'],\n",
       "   'importance': 0.187607631650503}],\n",
       " 'insect': [{'condition': 'legs >= 5.50',\n",
       "   'attributes': ['legs'],\n",
       "   'importance': 0.47480739916779957},\n",
       "  {'condition': 'aquatic < 0.50',\n",
       "   'attributes': ['aquatic'],\n",
       "   'importance': 0.11461012106173396},\n",
       "  {'condition': 'eggs >= 0.50',\n",
       "   'attributes': ['eggs'],\n",
       "   'importance': 0.060634901349317274}],\n",
       " 'invertebrate': [{'condition': 'backbone < 0.50',\n",
       "   'attributes': ['backbone'],\n",
       "   'importance': 0.6437411794554653},\n",
       "  {'condition': 'airborne < 0.50',\n",
       "   'attributes': ['airborne'],\n",
       "   'importance': 0.17127713556284985}],\n",
       " 'mammal': [{'condition': 'milk >= 0.50',\n",
       "   'attributes': ['milk'],\n",
       "   'importance': 1.0}],\n",
       " 'reptile': [{'condition': 'hair < 0.50',\n",
       "   'attributes': ['hair'],\n",
       "   'importance': 0.49337088161384896},\n",
       "  {'condition': 'aquatic < 0.50',\n",
       "   'attributes': ['aquatic'],\n",
       "   'importance': 0.4172718233231141},\n",
       "  {'condition': 'toothed >= 0.50',\n",
       "   'attributes': ['toothed'],\n",
       "   'importance': 0.4041948772993855},\n",
       "  {'condition': 'legs < 2.00',\n",
       "   'attributes': ['legs'],\n",
       "   'importance': 0.2763037988581467},\n",
       "  {'condition': 'fins < 0.50',\n",
       "   'attributes': ['fins'],\n",
       "   'importance': 0.23977086814257867},\n",
       "  {'condition': 'feathers < 0.50',\n",
       "   'attributes': ['feathers'],\n",
       "   'importance': 0.18732960390946504},\n",
       "  {'condition': 'backbone >= 0.50',\n",
       "   'attributes': ['backbone'],\n",
       "   'importance': 0.16063629518072292}]}"
      ]
     },
     "metadata": {},
     "output_type": "display_data"
    },
    {
     "name": "stdout",
     "output_type": "stream",
     "text": [
      "Attribute importances:\n"
     ]
    },
    {
     "data": {
      "text/plain": [
       "{'amphibian': {'legs': 0.21835455831817263,\n",
       "  'toothed': 0.15137644827521457,\n",
       "  'aquatic': 0.0706758304696449,\n",
       "  'hair': 0.05970494134376112},\n",
       " 'bird': {'feathers': 1.0},\n",
       " 'fish': {'fins': 0.812392368349497, 'eggs': 0.187607631650503},\n",
       " 'insect': {'legs': 0.47480739916779957,\n",
       "  'aquatic': 0.11461012106173396,\n",
       "  'eggs': 0.060634901349317274},\n",
       " 'invertebrate': {'backbone': 0.6437411794554653,\n",
       "  'airborne': 0.17127713556284985},\n",
       " 'mammal': {'milk': 1.0},\n",
       " 'reptile': {'hair': 0.49337088161384896,\n",
       "  'aquatic': 0.4172718233231141,\n",
       "  'toothed': 0.4041948772993855,\n",
       "  'legs': 0.2763037988581467,\n",
       "  'fins': 0.23977086814257867,\n",
       "  'feathers': 0.18732960390946504,\n",
       "  'backbone': 0.16063629518072292}}"
      ]
     },
     "metadata": {},
     "output_type": "display_data"
    }
   ],
   "source": [
    "from decision_rules.measures import c2\n",
    "condition_importances = decision_rules_ruleset.calculate_condition_importances(X, y, measure=c2)\n",
    "print('Condition importances:')\n",
    "display(condition_importances)\n",
    "attribute_importances = decision_rules_ruleset.calculate_attribute_importances(condition_importances)\n",
    "print('Attribute importances:')\n",
    "display(attribute_importances)"
   ]
  },
  {
   "cell_type": "markdown",
   "metadata": {},
   "source": [
    "We can serialize the decision-rules rule set to Python dict which can be later stored in JSON format. We do it using `JSONSerializer.serialize`."
   ]
  },
  {
   "cell_type": "code",
   "execution_count": 13,
   "metadata": {},
   "outputs": [],
   "source": [
    "from decision_rules.serialization.utils import JSONSerializer\n",
    "from decision_rules.classification.ruleset import ClassificationRuleSet"
   ]
  },
  {
   "cell_type": "code",
   "execution_count": 14,
   "metadata": {},
   "outputs": [
    {
     "name": "stdout",
     "output_type": "stream",
     "text": [
      "{'meta': {'attributes': ['hair', 'feathers', 'eggs', 'milk', 'airborne', 'aquatic', 'predator', 'toothed', 'backbone', 'breathes', 'venomous', 'fins', 'legs', 'tail', 'domestic', 'catsize'], 'decision_attribute': 'class', 'decision_attribute_distribution': {'amphibian': 4, 'bird': 20, 'fish': 13, 'insect': 8, 'invertebrate': 10, 'mammal': 41, 'reptile': 5}}, 'rules': [{'uuid': '3357850a-4701-41ee-92f5-17d524564033', 'string': 'IF aquatic >= 0.50 AND legs >= 3.00 AND toothed >= 0.50 AND hair < 0.50 THEN class = amphibian', 'premise': {'type': 'compound', 'operator': 'CONJUNCTION', 'subconditions': [{'type': 'elementary_numerical', 'attributes': [5], 'negated': False, 'left': 0.5, 'right': None, 'left_closed': True, 'right_closed': False}, {'type': 'elementary_numerical', 'attributes': [12], 'negated': False, 'left': 3.0, 'right': None, 'left_closed': True, 'right_closed': False}, {'type': 'elementary_numerical', 'attributes': [7], 'negated': False, 'left': 0.5, 'right': None, 'left_closed': True, 'right_closed': False}, {'type': 'elementary_numerical', 'attributes': [0], 'negated': False, 'left': None, 'right': 0.5, 'left_closed': False, 'right_closed': False}]}, 'conclusion': {'value': 'amphibian'}, 'coverage': {'p': 4, 'n': 0, 'P': 4, 'N': 97}}, {'uuid': '0d28724c-56c4-47bb-847e-96fc60e191d9', 'string': 'IF feathers >= 0.50 THEN class = bird', 'premise': {'type': 'compound', 'operator': 'CONJUNCTION', 'subconditions': [{'type': 'elementary_numerical', 'attributes': [1], 'negated': False, 'left': 0.5, 'right': None, 'left_closed': True, 'right_closed': False}]}, 'conclusion': {'value': 'bird'}, 'coverage': {'p': 20, 'n': 0, 'P': 20, 'N': 81}}, {'uuid': '9804e9ab-07d5-4954-8a32-22cb0033196a', 'string': 'IF fins >= 0.50 AND eggs >= 0.50 THEN class = fish', 'premise': {'type': 'compound', 'operator': 'CONJUNCTION', 'subconditions': [{'type': 'elementary_numerical', 'attributes': [11], 'negated': False, 'left': 0.5, 'right': None, 'left_closed': True, 'right_closed': False}, {'type': 'elementary_numerical', 'attributes': [2], 'negated': False, 'left': 0.5, 'right': None, 'left_closed': True, 'right_closed': False}]}, 'conclusion': {'value': 'fish'}, 'coverage': {'p': 13, 'n': 0, 'P': 13, 'N': 88}}, {'uuid': 'd7aa0f70-1492-4114-99f7-2a26a000c366', 'string': 'IF legs >= 5.50 AND aquatic < 0.50 AND eggs >= 0.50 THEN class = insect', 'premise': {'type': 'compound', 'operator': 'CONJUNCTION', 'subconditions': [{'type': 'elementary_numerical', 'attributes': [12], 'negated': False, 'left': 5.5, 'right': None, 'left_closed': True, 'right_closed': False}, {'type': 'elementary_numerical', 'attributes': [5], 'negated': False, 'left': None, 'right': 0.5, 'left_closed': False, 'right_closed': False}, {'type': 'elementary_numerical', 'attributes': [2], 'negated': False, 'left': 0.5, 'right': None, 'left_closed': True, 'right_closed': False}]}, 'conclusion': {'value': 'insect'}, 'coverage': {'p': 8, 'n': 0, 'P': 8, 'N': 93}}, {'uuid': '787b7170-b084-4830-a995-dd39cfe2ca15', 'string': 'IF backbone < 0.50 AND airborne < 0.50 THEN class = invertebrate', 'premise': {'type': 'compound', 'operator': 'CONJUNCTION', 'subconditions': [{'type': 'elementary_numerical', 'attributes': [8], 'negated': False, 'left': None, 'right': 0.5, 'left_closed': False, 'right_closed': False}, {'type': 'elementary_numerical', 'attributes': [4], 'negated': False, 'left': None, 'right': 0.5, 'left_closed': False, 'right_closed': False}]}, 'conclusion': {'value': 'invertebrate'}, 'coverage': {'p': 10, 'n': 2, 'P': 10, 'N': 91}}, {'uuid': '67f18dcb-1a70-43ad-9e16-713daedc5eca', 'string': 'IF milk >= 0.50 THEN class = mammal', 'premise': {'type': 'compound', 'operator': 'CONJUNCTION', 'subconditions': [{'type': 'elementary_numerical', 'attributes': [3], 'negated': False, 'left': 0.5, 'right': None, 'left_closed': True, 'right_closed': False}]}, 'conclusion': {'value': 'mammal'}, 'coverage': {'p': 41, 'n': 0, 'P': 41, 'N': 60}}, {'uuid': 'd122f503-9a1c-40b4-a879-a8452235ef9f', 'string': 'IF toothed >= 0.50 AND fins < 0.50 AND legs < 2.00 THEN class = reptile', 'premise': {'type': 'compound', 'operator': 'CONJUNCTION', 'subconditions': [{'type': 'elementary_numerical', 'attributes': [7], 'negated': False, 'left': 0.5, 'right': None, 'left_closed': True, 'right_closed': False}, {'type': 'elementary_numerical', 'attributes': [11], 'negated': False, 'left': None, 'right': 0.5, 'left_closed': False, 'right_closed': False}, {'type': 'elementary_numerical', 'attributes': [12], 'negated': False, 'left': None, 'right': 2.0, 'left_closed': False, 'right_closed': False}]}, 'conclusion': {'value': 'reptile'}, 'coverage': {'p': 3, 'n': 0, 'P': 5, 'N': 96}}, {'uuid': 'cce9a48a-ffd9-4636-9330-c9c991d0a15d', 'string': 'IF hair < 0.50 AND toothed >= 0.50 AND aquatic < 0.50 THEN class = reptile', 'premise': {'type': 'compound', 'operator': 'CONJUNCTION', 'subconditions': [{'type': 'elementary_numerical', 'attributes': [0], 'negated': False, 'left': None, 'right': 0.5, 'left_closed': False, 'right_closed': False}, {'type': 'elementary_numerical', 'attributes': [7], 'negated': False, 'left': 0.5, 'right': None, 'left_closed': True, 'right_closed': False}, {'type': 'elementary_numerical', 'attributes': [5], 'negated': False, 'left': None, 'right': 0.5, 'left_closed': False, 'right_closed': False}]}, 'conclusion': {'value': 'reptile'}, 'coverage': {'p': 3, 'n': 0, 'P': 5, 'N': 96}}, {'uuid': '0485665e-f92e-42f5-86e5-d05625076cd8', 'string': 'IF hair < 0.50 AND feathers < 0.50 AND aquatic < 0.50 AND backbone >= 0.50 THEN class = reptile', 'premise': {'type': 'compound', 'operator': 'CONJUNCTION', 'subconditions': [{'type': 'elementary_numerical', 'attributes': [0], 'negated': False, 'left': None, 'right': 0.5, 'left_closed': False, 'right_closed': False}, {'type': 'elementary_numerical', 'attributes': [1], 'negated': False, 'left': None, 'right': 0.5, 'left_closed': False, 'right_closed': False}, {'type': 'elementary_numerical', 'attributes': [5], 'negated': False, 'left': None, 'right': 0.5, 'left_closed': False, 'right_closed': False}, {'type': 'elementary_numerical', 'attributes': [8], 'negated': False, 'left': 0.5, 'right': None, 'left_closed': True, 'right_closed': False}]}, 'conclusion': {'value': 'reptile'}, 'coverage': {'p': 4, 'n': 0, 'P': 5, 'N': 96}}]}\n"
     ]
    }
   ],
   "source": [
    "ruleset_json = JSONSerializer.serialize(decision_rules_ruleset)\n",
    "print(ruleset_json)"
   ]
  },
  {
   "cell_type": "code",
   "execution_count": 15,
   "metadata": {},
   "outputs": [],
   "source": [
    "import json \n",
    "with open('output/zoo.json', 'w') as f:\n",
    "    json.dump(ruleset_json, f)"
   ]
  },
  {
   "cell_type": "markdown",
   "metadata": {},
   "source": [
    "The serialized ruleset can be reloaded using `JSONSerializer.deserialize`."
   ]
  },
  {
   "cell_type": "code",
   "execution_count": 16,
   "metadata": {},
   "outputs": [],
   "source": [
    "with open('output/zoo.json') as f:\n",
    "    deserialized_ruleset_json = json.load(f)\n",
    "deserialized_ruleset = JSONSerializer.deserialize(deserialized_ruleset_json, target_class=ClassificationRuleSet)"
   ]
  },
  {
   "cell_type": "markdown",
   "metadata": {},
   "source": [
    "Let's check if the rules are the same."
   ]
  },
  {
   "cell_type": "code",
   "execution_count": 17,
   "metadata": {},
   "outputs": [
    {
     "name": "stdout",
     "output_type": "stream",
     "text": [
      "IF aquatic >= 0.50 AND legs >= 3.00 AND toothed >= 0.50 AND hair < 0.50 THEN class = amphibian (p=4, n=0, P=4, N=97)\n",
      "IF feathers >= 0.50 THEN class = bird (p=20, n=0, P=20, N=81)\n",
      "IF fins >= 0.50 AND eggs >= 0.50 THEN class = fish (p=13, n=0, P=13, N=88)\n",
      "IF legs >= 5.50 AND aquatic < 0.50 AND eggs >= 0.50 THEN class = insect (p=8, n=0, P=8, N=93)\n",
      "IF backbone < 0.50 AND airborne < 0.50 THEN class = invertebrate (p=10, n=2, P=10, N=91)\n",
      "IF milk >= 0.50 THEN class = mammal (p=41, n=0, P=41, N=60)\n",
      "IF toothed >= 0.50 AND fins < 0.50 AND legs < 2.00 THEN class = reptile (p=3, n=0, P=5, N=96)\n",
      "IF hair < 0.50 AND toothed >= 0.50 AND aquatic < 0.50 THEN class = reptile (p=3, n=0, P=5, N=96)\n",
      "IF hair < 0.50 AND feathers < 0.50 AND aquatic < 0.50 AND backbone >= 0.50 THEN class = reptile (p=4, n=0, P=5, N=96)\n"
     ]
    }
   ],
   "source": [
    "for rule in deserialized_ruleset.rules:\n",
    "    print(rule)"
   ]
  },
  {
   "cell_type": "markdown",
   "metadata": {},
   "source": [
    "Before using some of the functions of the deserialized ruleset, it may be necessary to call the `update` function. After that the object will be ready for prediction."
   ]
  },
  {
   "cell_type": "code",
   "execution_count": 18,
   "metadata": {},
   "outputs": [
    {
     "data": {
      "text/plain": [
       "array(['mammal', 'mammal', 'fish', 'mammal', 'mammal', 'mammal', 'mammal',\n",
       "       'fish', 'fish', 'mammal', 'mammal', 'bird', 'fish', 'invertebrate',\n",
       "       'invertebrate', 'invertebrate', 'bird', 'mammal', 'fish', 'mammal',\n",
       "       'bird', 'bird', 'mammal', 'bird', 'insect', 'amphibian',\n",
       "       'amphibian', 'mammal', 'mammal', 'mammal', 'insect', 'mammal',\n",
       "       'mammal', 'bird', 'fish', 'mammal', 'mammal', 'bird', 'fish',\n",
       "       'insect', 'insect', 'bird', 'insect', 'bird', 'mammal', 'mammal',\n",
       "       'invertebrate', 'mammal', 'mammal', 'mammal', 'mammal', 'insect',\n",
       "       'amphibian', 'invertebrate', 'mammal', 'mammal', 'bird', 'bird',\n",
       "       'bird', 'bird', 'fish', 'fish', 'reptile', 'mammal', 'mammal',\n",
       "       'mammal', 'mammal', 'mammal', 'mammal', 'mammal', 'mammal', 'bird',\n",
       "       'invertebrate', 'fish', 'mammal', 'mammal', 'reptile',\n",
       "       'invertebrate', 'bird', 'bird', 'reptile', 'invertebrate', 'fish',\n",
       "       'bird', 'mammal', 'invertebrate', 'fish', 'bird', 'insect',\n",
       "       'amphibian', 'reptile', 'reptile', 'fish', 'mammal', 'mammal',\n",
       "       'bird', 'mammal', 'insect', 'mammal', 'invertebrate', 'bird'],\n",
       "      dtype='<U12')"
      ]
     },
     "metadata": {},
     "output_type": "display_data"
    }
   ],
   "source": [
    "deserialized_ruleset.update(X, y, c2)\n",
    "y_pred = deserialized_ruleset.predict(X)\n",
    "display(y_pred)"
   ]
  }
 ],
 "metadata": {
  "kernelspec": {
   "display_name": ".venv",
   "language": "python",
   "name": "python3"
  },
  "language_info": {
   "codemirror_mode": {
    "name": "ipython",
    "version": 3
   },
   "file_extension": ".py",
   "mimetype": "text/x-python",
   "name": "python",
   "nbconvert_exporter": "python",
   "pygments_lexer": "ipython3",
   "version": "3.10.12"
  }
 },
 "nbformat": 4,
 "nbformat_minor": 2
}
